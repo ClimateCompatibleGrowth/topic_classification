{
 "cells": [
  {
   "cell_type": "code",
   "execution_count": 1,
   "metadata": {},
   "outputs": [],
   "source": [
    "import requests\n",
    "import json"
   ]
  },
  {
   "cell_type": "code",
   "execution_count": 2,
   "metadata": {},
   "outputs": [],
   "source": [
    "with open('test_samples/test_json_single.json', 'r') as f:\n",
    "        data = json.load(f)\n",
    "        f.close()"
   ]
  },
  {
   "cell_type": "code",
   "execution_count": 3,
   "metadata": {},
   "outputs": [
    {
     "data": {
      "text/plain": [
       "2"
      ]
     },
     "execution_count": 3,
     "metadata": {},
     "output_type": "execute_result"
    }
   ],
   "source": [
    "len(data)"
   ]
  },
  {
   "cell_type": "code",
   "execution_count": 4,
   "metadata": {},
   "outputs": [
    {
     "name": "stdout",
     "output_type": "stream",
     "text": [
      "[[{'topic_id': 10829, 'topic_label': '829: Networks on Chip in System-on-Chip Design', 'topic_score': 0.9978}, {'topic_id': 10054, 'topic_label': '54: Parallel Computing and Performance Optimization', 'topic_score': 0.9962}, {'topic_id': 11522, 'topic_label': '1522: Design and Optimization of Field-Programmable Gate Arrays and Application-Specific Integrated Circuits', 'topic_score': 0.9909}], [{'topic_id': 10110, 'topic_label': '110: Seismicity and Tectonic Plate Interactions', 'topic_score': 0.9995}, {'topic_id': 12157, 'topic_label': '2157: Machine Learning for Mineral Prospectivity Mapping', 'topic_score': 0.9933}, {'topic_id': 10399, 'topic_label': '399: Characterization of Shale Gas Pore Structure', 'topic_score': 0.991}]]\n"
     ]
    }
   ],
   "source": [
    "response = requests.post(\n",
    "        \"http://localhost:5000/single\",\n",
    "        json=data\n",
    "    )\n",
    "print(response.json())"
   ]
  },
  {
   "cell_type": "code",
   "execution_count": 5,
   "metadata": {},
   "outputs": [
    {
     "name": "stdout",
     "output_type": "stream",
     "text": [
      "{'status': 'healthy', 'model': 'loaded'}\n"
     ]
    }
   ],
   "source": [
    "response = requests.get(\n",
    "        \"http://localhost:5000/health_check\",\n",
    "        json=data\n",
    "    )\n",
    "print(response.json())"
   ]
  }
 ],
 "metadata": {
  "kernelspec": {
   "display_name": "Python 3",
   "language": "python",
   "name": "python3"
  },
  "language_info": {
   "codemirror_mode": {
    "name": "ipython",
    "version": 3
   },
   "file_extension": ".py",
   "mimetype": "text/x-python",
   "name": "python",
   "nbconvert_exporter": "python",
   "pygments_lexer": "ipython3",
   "version": "3.10.12"
  }
 },
 "nbformat": 4,
 "nbformat_minor": 2
}
