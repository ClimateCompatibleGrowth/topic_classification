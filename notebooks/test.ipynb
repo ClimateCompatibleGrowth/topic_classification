{
 "cells": [
  {
   "cell_type": "code",
   "execution_count": 1,
   "metadata": {},
   "outputs": [],
   "source": [
    "import json\n",
    "import requests"
   ]
  },
  {
   "cell_type": "code",
   "execution_count": 2,
   "metadata": {},
   "outputs": [],
   "source": [
    "port = 5000"
   ]
  },
  {
   "cell_type": "markdown",
   "metadata": {},
   "source": [
    "# Health check"
   ]
  },
  {
   "cell_type": "code",
   "execution_count": 3,
   "metadata": {},
   "outputs": [
    {
     "name": "stdout",
     "output_type": "stream",
     "text": [
      "{'status': 'healthy', 'model': 'loaded'}\n"
     ]
    }
   ],
   "source": [
    "response = requests.get(\n",
    "        f\"http://localhost:{port}/health_check\",\n",
    "    )\n",
    "print(response.json())"
   ]
  },
  {
   "cell_type": "markdown",
   "metadata": {},
   "source": [
    "# Test single example"
   ]
  },
  {
   "cell_type": "code",
   "execution_count": 4,
   "metadata": {},
   "outputs": [],
   "source": [
    "with open('../test_samples/test_json_single.json', 'r') as f:\n",
    "        data = json.load(f)\n",
    "        f.close()"
   ]
  },
  {
   "cell_type": "code",
   "execution_count": 5,
   "metadata": {},
   "outputs": [],
   "source": [
    "response = requests.post(\n",
    "        f\"http://localhost:{port}/single\",\n",
    "        json=data\n",
    "    )"
   ]
  },
  {
   "cell_type": "code",
   "execution_count": 6,
   "metadata": {},
   "outputs": [
    {
     "name": "stdout",
     "output_type": "stream",
     "text": [
      "[\n",
      "    [\n",
      "        {\n",
      "            \"topic_id\": 10829,\n",
      "            \"topic_label\": \"829: Networks on Chip in System-on-Chip Design\",\n",
      "            \"topic_score\": 0.9978\n",
      "        },\n",
      "        {\n",
      "            \"topic_id\": 10054,\n",
      "            \"topic_label\": \"54: Parallel Computing and Performance Optimization\",\n",
      "            \"topic_score\": 0.9963\n",
      "        },\n",
      "        {\n",
      "            \"topic_id\": 11522,\n",
      "            \"topic_label\": \"1522: Design and Optimization of Field-Programmable Gate Arrays and Application-Specific Integrated Circuits\",\n",
      "            \"topic_score\": 0.991\n",
      "        }\n",
      "    ]\n",
      "]\n"
     ]
    }
   ],
   "source": [
    "print(json.dumps(response.json(), indent=4))"
   ]
  },
  {
   "cell_type": "markdown",
   "metadata": {},
   "source": [
    "# Test single non-inverted abstract"
   ]
  },
  {
   "cell_type": "code",
   "execution_count": 7,
   "metadata": {},
   "outputs": [],
   "source": [
    "with open('../test_samples/test_json_single_not_inverted.json', 'r') as f:\n",
    "        data = json.load(f)\n",
    "        f.close()"
   ]
  },
  {
   "cell_type": "code",
   "execution_count": 8,
   "metadata": {},
   "outputs": [],
   "source": [
    "response = requests.post(\n",
    "        f\"http://localhost:{port}/single\",\n",
    "        json=data\n",
    "    )"
   ]
  },
  {
   "cell_type": "code",
   "execution_count": 9,
   "metadata": {},
   "outputs": [
    {
     "name": "stdout",
     "output_type": "stream",
     "text": [
      "[\n",
      "    [\n",
      "        {\n",
      "            \"topic_id\": 12639,\n",
      "            \"topic_label\": \"2639: Global Energy Transition and Fossil Fuel Depletion\",\n",
      "            \"topic_score\": 0.9951\n",
      "        },\n",
      "        {\n",
      "            \"topic_id\": 11185,\n",
      "            \"topic_label\": \"1185: Integration of Renewable Energy Systems in Power Grids\",\n",
      "            \"topic_score\": 0.9747\n",
      "        },\n",
      "        {\n",
      "            \"topic_id\": 12129,\n",
      "            \"topic_label\": \"2129: Energy Supply and Security Issues for Developed Economies\",\n",
      "            \"topic_score\": 0.9722\n",
      "        }\n",
      "    ]\n",
      "]\n"
     ]
    }
   ],
   "source": [
    "print(json.dumps(response.json(), indent=4))"
   ]
  },
  {
   "cell_type": "markdown",
   "metadata": {},
   "source": [
    "# Testing batch example"
   ]
  },
  {
   "cell_type": "code",
   "execution_count": 10,
   "metadata": {},
   "outputs": [],
   "source": [
    "with open('../test_samples/test_json_batch.json', 'r') as f:\n",
    "        data = json.load(f)\n",
    "        f.close()"
   ]
  },
  {
   "cell_type": "code",
   "execution_count": 11,
   "metadata": {},
   "outputs": [],
   "source": [
    "response = requests.post(\n",
    "        f\"http://localhost:{port}/batch\",\n",
    "        json=data\n",
    "    )"
   ]
  },
  {
   "cell_type": "code",
   "execution_count": 12,
   "metadata": {},
   "outputs": [
    {
     "name": "stdout",
     "output_type": "stream",
     "text": [
      "[\n",
      "    [\n",
      "        {\n",
      "            \"topic_id\": 10829,\n",
      "            \"topic_label\": \"829: Networks on Chip in System-on-Chip Design\",\n",
      "            \"topic_score\": 0.9978\n",
      "        },\n",
      "        {\n",
      "            \"topic_id\": 10054,\n",
      "            \"topic_label\": \"54: Parallel Computing and Performance Optimization\",\n",
      "            \"topic_score\": 0.9962\n",
      "        },\n",
      "        {\n",
      "            \"topic_id\": 11522,\n",
      "            \"topic_label\": \"1522: Design and Optimization of Field-Programmable Gate Arrays and Application-Specific Integrated Circuits\",\n",
      "            \"topic_score\": 0.9909\n",
      "        }\n",
      "    ],\n",
      "    [\n",
      "        {\n",
      "            \"topic_id\": 10110,\n",
      "            \"topic_label\": \"110: Seismicity and Tectonic Plate Interactions\",\n",
      "            \"topic_score\": 0.9995\n",
      "        },\n",
      "        {\n",
      "            \"topic_id\": 12157,\n",
      "            \"topic_label\": \"2157: Machine Learning for Mineral Prospectivity Mapping\",\n",
      "            \"topic_score\": 0.9933\n",
      "        },\n",
      "        {\n",
      "            \"topic_id\": 10399,\n",
      "            \"topic_label\": \"399: Characterization of Shale Gas Pore Structure\",\n",
      "            \"topic_score\": 0.991\n",
      "        }\n",
      "    ]\n",
      "]\n"
     ]
    }
   ],
   "source": [
    "print(json.dumps(response.json(), indent=4))"
   ]
  }
 ],
 "metadata": {
  "kernelspec": {
   "display_name": "Python 3",
   "language": "python",
   "name": "python3"
  },
  "language_info": {
   "codemirror_mode": {
    "name": "ipython",
    "version": 3
   },
   "file_extension": ".py",
   "mimetype": "text/x-python",
   "name": "python",
   "nbconvert_exporter": "python",
   "pygments_lexer": "ipython3",
   "version": "3.10.12"
  }
 },
 "nbformat": 4,
 "nbformat_minor": 2
}
